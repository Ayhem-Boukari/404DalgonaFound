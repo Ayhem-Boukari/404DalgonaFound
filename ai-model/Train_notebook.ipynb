{
  "cells": [
    {
      "cell_type": "markdown",
      "metadata": {},
      "source": [
        "## Dependencies"
      ]
    },
    {
      "cell_type": "code",
      "execution_count": null,
      "metadata": {
        "colab": {
          "base_uri": "https://localhost:8080/"
        },
        "id": "oSx1fkAaJ_eZ",
        "outputId": "3d27724c-0955-48f4-b3b5-72e48cb03aba"
      },
      "outputs": [],
      "source": [
        "!pip install transformers accelerate sentence-transformers einops bitsandbytes"
      ]
    },
    {
      "cell_type": "code",
      "execution_count": 3,
      "metadata": {
        "id": "hJXcAT1iKnAu"
      },
      "outputs": [],
      "source": [
        "import os\n",
        "os.environ['HF_TOKEN'] = \"HUGGINGFACEHUB_API_TOKEN\"\n",
        "os.environ['HUGGINGFACEHUB_API_TOKEN'] = \"HUGGINGFACEHUB_API_TOKEN\""
      ]
    },
    {
      "cell_type": "code",
      "execution_count": 4,
      "metadata": {
        "colab": {
          "base_uri": "https://localhost:8080/"
        },
        "id": "5-IU5rnp_u2_",
        "outputId": "4e1ec70c-e7eb-4d5d-cffc-7708aab4613f"
      },
      "outputs": [],
      "source": [
        "model_name = \"sentence-transformers/distiluse-base-multilingual-cased-v2\"\n"
      ]
    },
    {
      "cell_type": "code",
      "execution_count": null,
      "metadata": {
        "colab": {
          "base_uri": "https://localhost:8080/"
        },
        "id": "MHxNjFJ8KnHg",
        "outputId": "a98e965e-fdc0-431b-e5b6-22c61f477d47"
      },
      "outputs": [],
      "source": [
        "!pip install datasets\n",
        "from datasets import Dataset\n",
        "import torch\n",
        "from torch.utils.data import DataLoader\n",
        "from sentence_transformers import SentenceTransformer, losses\n",
        "from datasets import Dataset  # <-- Add this import\n",
        "import json\n",
        "\n",
        "with open(\"dataset.json\", \"r\", encoding=\"utf-8\") as f:\n",
        "    data = json.load(f)\n",
        "\n",
        "faq_items = data[\"dataset1\"]  # a list of {id, category, question, answer}\n",
        "questions = [item[\"question\"] for item in faq_items]\n",
        "answers = [item[\"answer\"] for item in faq_items]\n"
      ]
    },
    {
      "cell_type": "code",
      "execution_count": null,
      "metadata": {
        "colab": {
          "base_uri": "https://localhost:8080/"
        },
        "id": "5s0mpUF9KnMG",
        "outputId": "c1208819-8462-4bc4-b0f2-5c67c5beb047"
      },
      "outputs": [],
      "source": [
        "!pip install torch sentence-transformers\n"
      ]
    },
    {
      "cell_type": "markdown",
      "metadata": {},
      "source": [
        "## Training"
      ]
    },
    {
      "cell_type": "code",
      "execution_count": 7,
      "metadata": {
        "id": "ZSbs1D8xKnPU"
      },
      "outputs": [],
      "source": [
        "from sentence_transformers import InputExample\n",
        "\n",
        "train_samples = []\n",
        "for item in faq_items:\n",
        "    q = item[\"question\"]\n",
        "    a = item[\"answer\"]\n",
        "    train_samples.append(InputExample(texts=[q, a]))\n",
        "\n"
      ]
    },
    {
      "cell_type": "code",
      "execution_count": 8,
      "metadata": {
        "id": "pYgEiTQ6KnS4"
      },
      "outputs": [],
      "source": [
        "from sentence_transformers import SentenceTransformer, losses\n",
        "from torch.utils.data import DataLoader\n",
        "\n",
        "model_name = \"sentence-transformers/distiluse-base-multilingual-cased-v2\"\n",
        "model = SentenceTransformer(model_name)\n"
      ]
    },
    {
      "cell_type": "code",
      "execution_count": 9,
      "metadata": {
        "id": "tfbhm03aNrN6"
      },
      "outputs": [],
      "source": [
        "train_dataloader = DataLoader(train_samples, shuffle=True, batch_size=8)\n"
      ]
    },
    {
      "cell_type": "code",
      "execution_count": 10,
      "metadata": {
        "id": "mwx-9xl8NuHj"
      },
      "outputs": [],
      "source": [
        "train_loss = losses.MultipleNegativesRankingLoss(model)\n"
      ]
    },
    {
      "cell_type": "code",
      "execution_count": null,
      "metadata": {
        "colab": {
          "base_uri": "https://localhost:8080/"
        },
        "id": "kRTzsXG7Qsh3",
        "outputId": "18a0b378-9af8-483b-f6c8-ac802a97e91b"
      },
      "outputs": [],
      "source": [
        "!pip install --upgrade sentence-transformers datasets\n"
      ]
    },
    {
      "cell_type": "code",
      "execution_count": 12,
      "metadata": {
        "colab": {
          "base_uri": "https://localhost:8080/",
          "height": 165,
          "referenced_widgets": [
            "23053f8fa8f14ebb928a975a26cefebe",
            "c1cf06deb069468d9302adc80dc83d67",
            "a1824c747dcf49bab659377e96f635a1",
            "cb9e56ec020f4f98869ce9de40d52daa",
            "0824fe6e1d8f448984dbc87cdd540908",
            "67b54b997f5b4552926adbc20b9b5f74",
            "9ee38b75275e444e8dbc76aa42f19fe6",
            "62d9d2bb5df745a4a1a954f497cae427",
            "ff2a2cb9fcbe4495a5123daf82be654c",
            "da3d0bf200544bf3a44d6b70c59e16ba",
            "944526d9354b4434a802360a415e9428"
          ]
        },
        "id": "M3E-sPqdNuKL",
        "outputId": "0555bab4-6ba0-4418-97fc-16191241c833"
      },
      "outputs": [
        {
          "name": "stderr",
          "output_type": "stream",
          "text": [
            "                                                                     \r"
          ]
        },
        {
          "data": {
            "text/html": [
              "\n",
              "    <div>\n",
              "      \n",
              "      <progress value='192' max='192' style='width:300px; height:20px; vertical-align: middle;'></progress>\n",
              "      [192/192 04:55, Epoch 6/6]\n",
              "    </div>\n",
              "    <table border=\"1\" class=\"dataframe\">\n",
              "  <thead>\n",
              " <tr style=\"text-align: left;\">\n",
              "      <th>Step</th>\n",
              "      <th>Training Loss</th>\n",
              "    </tr>\n",
              "  </thead>\n",
              "  <tbody>\n",
              "  </tbody>\n",
              "</table><p>"
            ],
            "text/plain": [
              "<IPython.core.display.HTML object>"
            ]
          },
          "metadata": {},
          "output_type": "display_data"
        }
      ],
      "source": [
        "num_epochs = 6\n",
        "\n",
        "model.fit(\n",
        "    train_objectives=[(train_dataloader, train_loss)],\n",
        "    epochs=num_epochs,\n",
        "    warmup_steps=100,  # or suitable number\n",
        "    show_progress_bar=True\n",
        ")\n"
      ]
    },
    {
      "cell_type": "code",
      "execution_count": 13,
      "metadata": {
        "id": "MGsQG6TCTDZ0"
      },
      "outputs": [],
      "source": [
        "model.save(\"fine_tuned_faq_model\")\n"
      ]
    },
    {
      "cell_type": "code",
      "execution_count": 14,
      "metadata": {
        "id": "WlP7VjlUTJmB"
      },
      "outputs": [],
      "source": [
        "import torch\n",
        "from sentence_transformers import SentenceTransformer\n",
        "\n",
        "# Load your fine-tuned model\n",
        "model = SentenceTransformer(\"fine_tuned_faq_model\")\n",
        "\n",
        "# Build question list & answer list\n",
        "questions = [item[\"question\"] for item in faq_items]\n",
        "answers = [item[\"answer\"] for item in faq_items]\n",
        "\n",
        "# Compute embeddings for all questions\n",
        "question_embeddings = model.encode(questions, convert_to_tensor=True)\n"
      ]
    },
    {
      "cell_type": "code",
      "execution_count": 15,
      "metadata": {
        "id": "tHNGaHiQTJq3"
      },
      "outputs": [],
      "source": [
        "def get_best_answer(user_question):\n",
        "\n",
        "    # 1) Encode the incoming user question\n",
        "    user_embedding = model.encode([user_question], convert_to_tensor=True)\n",
        "\n",
        "    # 2) Compute cosine similarities\n",
        "    cos_scores = torch.nn.functional.cosine_similarity(question_embeddings, user_embedding[0], dim=1)\n",
        "\n",
        "    # 3) Find the question with the highest similarity\n",
        "    top_idx = torch.argmax(cos_scores).item()\n",
        "    best_score = cos_scores[top_idx].item()\n",
        "\n",
        "    # Apply the threshold\n",
        "    if best_score < 0.3:\n",
        "        return \"Je suis là pour vous aider. Pouvez-vous reformuler votre question ?\", \"Je suis là pour vous aider. Pouvez-vous reformuler votre question ?\", None\n",
        "\n",
        "    best_match_question = questions[top_idx]\n",
        "    best_answer = answers[top_idx]\n",
        "\n",
        "    return best_match_question, best_answer, best_score\n"
      ]
    },
    {
      "cell_type": "markdown",
      "metadata": {},
      "source": [
        "## Test samples"
      ]
    },
    {
      "cell_type": "code",
      "execution_count": 16,
      "metadata": {
        "colab": {
          "base_uri": "https://localhost:8080/"
        },
        "id": "_RM0vo5OTT_5",
        "outputId": "7633ee9a-9339-4e2d-e5da-d268529900a7"
      },
      "outputs": [
        {
          "name": "stdout",
          "output_type": "stream",
          "text": [
            "User Query: Pouvez-vous me dire quelle est la mission de l'établissement ?\n",
            "Matched FAQ Question: Quelle est la mission de notre établissement ?\n",
            "Answer: Notre mission est de fournir une éducation de qualité, accessible à tous, et de promouvoir l'innovation et la recherche.\n",
            "Similarity Score: 0.8176456689834595\n"
          ]
        }
      ],
      "source": [
        "user_query = \"Pouvez-vous me dire quelle est la mission de l'établissement ?\"\n",
        "matched_q, matched_a, sim_score = get_best_answer(user_query)\n",
        "\n",
        "print(\"User Query:\", user_query)\n",
        "print(\"Matched FAQ Question:\", matched_q)\n",
        "print(\"Answer:\", matched_a)\n",
        "print(\"Similarity Score:\", sim_score)\n"
      ]
    },
    {
      "cell_type": "code",
      "execution_count": 17,
      "metadata": {},
      "outputs": [
        {
          "name": "stdout",
          "output_type": "stream",
          "text": [
            "User Query: Bonjour, Pouvez-vous me dire quelle est la mission de l'établissement ?\n",
            "Matched FAQ Question: Bonjour\n",
            "Answer: Bonjour, comment puis-je vous aider ?\n",
            "Similarity Score: 0.8234753012657166\n"
          ]
        }
      ],
      "source": [
        "user_query = \"Bonjour, Pouvez-vous me dire quelle est la mission de l'établissement ?\"\n",
        "matched_q, matched_a, sim_score = get_best_answer(user_query)\n",
        "\n",
        "print(\"User Query:\", user_query)\n",
        "print(\"Matched FAQ Question:\", matched_q)\n",
        "print(\"Answer:\", matched_a)\n",
        "print(\"Similarity Score:\", sim_score)"
      ]
    },
    {
      "cell_type": "code",
      "execution_count": 18,
      "metadata": {},
      "outputs": [
        {
          "name": "stdout",
          "output_type": "stream",
          "text": [
            "User Query: quelles sont les mastères possibles ?\n",
            "Matched FAQ Question: Y a-t-il des opportunités de stages pour les étudiants en master ?\n",
            "Answer: Oui, la plupart des masters incluent des stages obligatoires ou optionnels.\n",
            "Similarity Score: 0.34152695536613464\n"
          ]
        }
      ],
      "source": [
        "user_query = \"quelles sont les mastères possibles ?\"\n",
        "matched_q, matched_a, sim_score = get_best_answer(user_query)\n",
        "\n",
        "print(\"User Query:\", user_query)\n",
        "print(\"Matched FAQ Question:\", matched_q)\n",
        "print(\"Answer:\", matched_a)\n",
        "print(\"Similarity Score:\", sim_score)"
      ]
    },
    {
      "cell_type": "code",
      "execution_count": 19,
      "metadata": {},
      "outputs": [
        {
          "name": "stdout",
          "output_type": "stream",
          "text": [
            "User Query: salem\n",
            "Matched FAQ Question: Salem\n",
            "Answer: Salem, comment ça va ?\n",
            "Similarity Score: 0.8908565044403076\n"
          ]
        }
      ],
      "source": [
        "user_query = \"salem\"\n",
        "matched_q, matched_a, sim_score = get_best_answer(user_query)\n",
        "\n",
        "print(\"User Query:\", user_query)\n",
        "print(\"Matched FAQ Question:\", matched_q)\n",
        "print(\"Answer:\", matched_a)\n",
        "print(\"Similarity Score:\", sim_score)"
      ]
    },
    {
      "cell_type": "code",
      "execution_count": 20,
      "metadata": {},
      "outputs": [
        {
          "name": "stdout",
          "output_type": "stream",
          "text": [
            "User Query: Quels sont les événements culturels les plus populaires parmi les étudiants ?\n",
            "Matched FAQ Question: Quels sont les événements culturels les plus populaires parmi les étudiants ?\n",
            "Answer: Les événements les plus populaires incluent le festival culturel annuel et les compétitions sportives interuniversitaires.\n",
            "Similarity Score: 0.9999998807907104\n"
          ]
        }
      ],
      "source": [
        "user_query = \"Quels sont les événements culturels les plus populaires parmi les étudiants ?\"\n",
        "matched_q, matched_a, sim_score = get_best_answer(user_query)\n",
        "\n",
        "print(\"User Query:\", user_query)\n",
        "print(\"Matched FAQ Question:\", matched_q)\n",
        "print(\"Answer:\", matched_a)\n",
        "print(\"Similarity Score:\", sim_score)"
      ]
    },
    {
      "cell_type": "code",
      "execution_count": null,
      "metadata": {},
      "outputs": [],
      "source": []
    }
  ],
  "metadata": {
    "colab": {
      "provenance": [],
      "toc_visible": true
    },
    "kernelspec": {
      "display_name": ".venv",
      "language": "python",
      "name": "python3"
    },
    "language_info": {
      "codemirror_mode": {
        "name": "ipython",
        "version": 3
      },
      "file_extension": ".py",
      "mimetype": "text/x-python",
      "name": "python",
      "nbconvert_exporter": "python",
      "pygments_lexer": "ipython3",
      "version": "3.12.4"
    },
    "widgets": {
      "state": {
        "0824fe6e1d8f448984dbc87cdd540908": {
          "model_module": "@jupyter-widgets/base",
          "model_module_version": "1.2.0",
          "model_name": "LayoutModel",
          "state": {
            "_model_module": "@jupyter-widgets/base",
            "_model_module_version": "1.2.0",
            "_model_name": "LayoutModel",
            "_view_count": null,
            "_view_module": "@jupyter-widgets/base",
            "_view_module_version": "1.2.0",
            "_view_name": "LayoutView",
            "align_content": null,
            "align_items": null,
            "align_self": null,
            "border": null,
            "bottom": null,
            "display": null,
            "flex": null,
            "flex_flow": null,
            "grid_area": null,
            "grid_auto_columns": null,
            "grid_auto_flow": null,
            "grid_auto_rows": null,
            "grid_column": null,
            "grid_gap": null,
            "grid_row": null,
            "grid_template_areas": null,
            "grid_template_columns": null,
            "grid_template_rows": null,
            "height": null,
            "justify_content": null,
            "justify_items": null,
            "left": null,
            "margin": null,
            "max_height": null,
            "max_width": null,
            "min_height": null,
            "min_width": null,
            "object_fit": null,
            "object_position": null,
            "order": null,
            "overflow": null,
            "overflow_x": null,
            "overflow_y": null,
            "padding": null,
            "right": null,
            "top": null,
            "visibility": "hidden",
            "width": null
          }
        },
        "23053f8fa8f14ebb928a975a26cefebe": {
          "model_module": "@jupyter-widgets/controls",
          "model_module_version": "1.5.0",
          "model_name": "HBoxModel",
          "state": {
            "_dom_classes": [],
            "_model_module": "@jupyter-widgets/controls",
            "_model_module_version": "1.5.0",
            "_model_name": "HBoxModel",
            "_view_count": null,
            "_view_module": "@jupyter-widgets/controls",
            "_view_module_version": "1.5.0",
            "_view_name": "HBoxView",
            "box_style": "",
            "children": [
              "IPY_MODEL_c1cf06deb069468d9302adc80dc83d67",
              "IPY_MODEL_a1824c747dcf49bab659377e96f635a1",
              "IPY_MODEL_cb9e56ec020f4f98869ce9de40d52daa"
            ],
            "layout": "IPY_MODEL_0824fe6e1d8f448984dbc87cdd540908"
          }
        },
        "62d9d2bb5df745a4a1a954f497cae427": {
          "model_module": "@jupyter-widgets/base",
          "model_module_version": "1.2.0",
          "model_name": "LayoutModel",
          "state": {
            "_model_module": "@jupyter-widgets/base",
            "_model_module_version": "1.2.0",
            "_model_name": "LayoutModel",
            "_view_count": null,
            "_view_module": "@jupyter-widgets/base",
            "_view_module_version": "1.2.0",
            "_view_name": "LayoutView",
            "align_content": null,
            "align_items": null,
            "align_self": null,
            "border": null,
            "bottom": null,
            "display": null,
            "flex": null,
            "flex_flow": null,
            "grid_area": null,
            "grid_auto_columns": null,
            "grid_auto_flow": null,
            "grid_auto_rows": null,
            "grid_column": null,
            "grid_gap": null,
            "grid_row": null,
            "grid_template_areas": null,
            "grid_template_columns": null,
            "grid_template_rows": null,
            "height": null,
            "justify_content": null,
            "justify_items": null,
            "left": null,
            "margin": null,
            "max_height": null,
            "max_width": null,
            "min_height": null,
            "min_width": null,
            "object_fit": null,
            "object_position": null,
            "order": null,
            "overflow": null,
            "overflow_x": null,
            "overflow_y": null,
            "padding": null,
            "right": null,
            "top": null,
            "visibility": null,
            "width": null
          }
        },
        "67b54b997f5b4552926adbc20b9b5f74": {
          "model_module": "@jupyter-widgets/base",
          "model_module_version": "1.2.0",
          "model_name": "LayoutModel",
          "state": {
            "_model_module": "@jupyter-widgets/base",
            "_model_module_version": "1.2.0",
            "_model_name": "LayoutModel",
            "_view_count": null,
            "_view_module": "@jupyter-widgets/base",
            "_view_module_version": "1.2.0",
            "_view_name": "LayoutView",
            "align_content": null,
            "align_items": null,
            "align_self": null,
            "border": null,
            "bottom": null,
            "display": null,
            "flex": null,
            "flex_flow": null,
            "grid_area": null,
            "grid_auto_columns": null,
            "grid_auto_flow": null,
            "grid_auto_rows": null,
            "grid_column": null,
            "grid_gap": null,
            "grid_row": null,
            "grid_template_areas": null,
            "grid_template_columns": null,
            "grid_template_rows": null,
            "height": null,
            "justify_content": null,
            "justify_items": null,
            "left": null,
            "margin": null,
            "max_height": null,
            "max_width": null,
            "min_height": null,
            "min_width": null,
            "object_fit": null,
            "object_position": null,
            "order": null,
            "overflow": null,
            "overflow_x": null,
            "overflow_y": null,
            "padding": null,
            "right": null,
            "top": null,
            "visibility": null,
            "width": null
          }
        },
        "944526d9354b4434a802360a415e9428": {
          "model_module": "@jupyter-widgets/controls",
          "model_module_version": "1.5.0",
          "model_name": "DescriptionStyleModel",
          "state": {
            "_model_module": "@jupyter-widgets/controls",
            "_model_module_version": "1.5.0",
            "_model_name": "DescriptionStyleModel",
            "_view_count": null,
            "_view_module": "@jupyter-widgets/base",
            "_view_module_version": "1.2.0",
            "_view_name": "StyleView",
            "description_width": ""
          }
        },
        "9ee38b75275e444e8dbc76aa42f19fe6": {
          "model_module": "@jupyter-widgets/controls",
          "model_module_version": "1.5.0",
          "model_name": "DescriptionStyleModel",
          "state": {
            "_model_module": "@jupyter-widgets/controls",
            "_model_module_version": "1.5.0",
            "_model_name": "DescriptionStyleModel",
            "_view_count": null,
            "_view_module": "@jupyter-widgets/base",
            "_view_module_version": "1.2.0",
            "_view_name": "StyleView",
            "description_width": ""
          }
        },
        "a1824c747dcf49bab659377e96f635a1": {
          "model_module": "@jupyter-widgets/controls",
          "model_module_version": "1.5.0",
          "model_name": "FloatProgressModel",
          "state": {
            "_dom_classes": [],
            "_model_module": "@jupyter-widgets/controls",
            "_model_module_version": "1.5.0",
            "_model_name": "FloatProgressModel",
            "_view_count": null,
            "_view_module": "@jupyter-widgets/controls",
            "_view_module_version": "1.5.0",
            "_view_name": "ProgressView",
            "bar_style": "",
            "description": "",
            "description_tooltip": null,
            "layout": "IPY_MODEL_62d9d2bb5df745a4a1a954f497cae427",
            "max": 1,
            "min": 0,
            "orientation": "horizontal",
            "style": "IPY_MODEL_ff2a2cb9fcbe4495a5123daf82be654c",
            "value": 1
          }
        },
        "c1cf06deb069468d9302adc80dc83d67": {
          "model_module": "@jupyter-widgets/controls",
          "model_module_version": "1.5.0",
          "model_name": "HTMLModel",
          "state": {
            "_dom_classes": [],
            "_model_module": "@jupyter-widgets/controls",
            "_model_module_version": "1.5.0",
            "_model_name": "HTMLModel",
            "_view_count": null,
            "_view_module": "@jupyter-widgets/controls",
            "_view_module_version": "1.5.0",
            "_view_name": "HTMLView",
            "description": "",
            "description_tooltip": null,
            "layout": "IPY_MODEL_67b54b997f5b4552926adbc20b9b5f74",
            "placeholder": "​",
            "style": "IPY_MODEL_9ee38b75275e444e8dbc76aa42f19fe6",
            "value": "Computing widget examples:   0%"
          }
        },
        "cb9e56ec020f4f98869ce9de40d52daa": {
          "model_module": "@jupyter-widgets/controls",
          "model_module_version": "1.5.0",
          "model_name": "HTMLModel",
          "state": {
            "_dom_classes": [],
            "_model_module": "@jupyter-widgets/controls",
            "_model_module_version": "1.5.0",
            "_model_name": "HTMLModel",
            "_view_count": null,
            "_view_module": "@jupyter-widgets/controls",
            "_view_module_version": "1.5.0",
            "_view_name": "HTMLView",
            "description": "",
            "description_tooltip": null,
            "layout": "IPY_MODEL_da3d0bf200544bf3a44d6b70c59e16ba",
            "placeholder": "​",
            "style": "IPY_MODEL_944526d9354b4434a802360a415e9428",
            "value": " 0/1 [00:00&lt;?, ?example/s]"
          }
        },
        "da3d0bf200544bf3a44d6b70c59e16ba": {
          "model_module": "@jupyter-widgets/base",
          "model_module_version": "1.2.0",
          "model_name": "LayoutModel",
          "state": {
            "_model_module": "@jupyter-widgets/base",
            "_model_module_version": "1.2.0",
            "_model_name": "LayoutModel",
            "_view_count": null,
            "_view_module": "@jupyter-widgets/base",
            "_view_module_version": "1.2.0",
            "_view_name": "LayoutView",
            "align_content": null,
            "align_items": null,
            "align_self": null,
            "border": null,
            "bottom": null,
            "display": null,
            "flex": null,
            "flex_flow": null,
            "grid_area": null,
            "grid_auto_columns": null,
            "grid_auto_flow": null,
            "grid_auto_rows": null,
            "grid_column": null,
            "grid_gap": null,
            "grid_row": null,
            "grid_template_areas": null,
            "grid_template_columns": null,
            "grid_template_rows": null,
            "height": null,
            "justify_content": null,
            "justify_items": null,
            "left": null,
            "margin": null,
            "max_height": null,
            "max_width": null,
            "min_height": null,
            "min_width": null,
            "object_fit": null,
            "object_position": null,
            "order": null,
            "overflow": null,
            "overflow_x": null,
            "overflow_y": null,
            "padding": null,
            "right": null,
            "top": null,
            "visibility": null,
            "width": null
          }
        },
        "ff2a2cb9fcbe4495a5123daf82be654c": {
          "model_module": "@jupyter-widgets/controls",
          "model_module_version": "1.5.0",
          "model_name": "ProgressStyleModel",
          "state": {
            "_model_module": "@jupyter-widgets/controls",
            "_model_module_version": "1.5.0",
            "_model_name": "ProgressStyleModel",
            "_view_count": null,
            "_view_module": "@jupyter-widgets/base",
            "_view_module_version": "1.2.0",
            "_view_name": "StyleView",
            "bar_color": null,
            "description_width": ""
          }
        }
      },
      "application/vnd.jupyter.widget-state+json": {
        "0824fe6e1d8f448984dbc87cdd540908": {
          "model_module": "@jupyter-widgets/base",
          "model_module_version": "1.2.0",
          "model_name": "LayoutModel",
          "state": {
            "_model_module": "@jupyter-widgets/base",
            "_model_module_version": "1.2.0",
            "_model_name": "LayoutModel",
            "_view_count": null,
            "_view_module": "@jupyter-widgets/base",
            "_view_module_version": "1.2.0",
            "_view_name": "LayoutView",
            "align_content": null,
            "align_items": null,
            "align_self": null,
            "border": null,
            "bottom": null,
            "display": null,
            "flex": null,
            "flex_flow": null,
            "grid_area": null,
            "grid_auto_columns": null,
            "grid_auto_flow": null,
            "grid_auto_rows": null,
            "grid_column": null,
            "grid_gap": null,
            "grid_row": null,
            "grid_template_areas": null,
            "grid_template_columns": null,
            "grid_template_rows": null,
            "height": null,
            "justify_content": null,
            "justify_items": null,
            "left": null,
            "margin": null,
            "max_height": null,
            "max_width": null,
            "min_height": null,
            "min_width": null,
            "object_fit": null,
            "object_position": null,
            "order": null,
            "overflow": null,
            "overflow_x": null,
            "overflow_y": null,
            "padding": null,
            "right": null,
            "top": null,
            "visibility": "hidden",
            "width": null
          }
        },
        "23053f8fa8f14ebb928a975a26cefebe": {
          "model_module": "@jupyter-widgets/controls",
          "model_module_version": "1.5.0",
          "model_name": "HBoxModel",
          "state": {
            "_dom_classes": [],
            "_model_module": "@jupyter-widgets/controls",
            "_model_module_version": "1.5.0",
            "_model_name": "HBoxModel",
            "_view_count": null,
            "_view_module": "@jupyter-widgets/controls",
            "_view_module_version": "1.5.0",
            "_view_name": "HBoxView",
            "box_style": "",
            "children": [
              "IPY_MODEL_c1cf06deb069468d9302adc80dc83d67",
              "IPY_MODEL_a1824c747dcf49bab659377e96f635a1",
              "IPY_MODEL_cb9e56ec020f4f98869ce9de40d52daa"
            ],
            "layout": "IPY_MODEL_0824fe6e1d8f448984dbc87cdd540908"
          }
        },
        "62d9d2bb5df745a4a1a954f497cae427": {
          "model_module": "@jupyter-widgets/base",
          "model_module_version": "1.2.0",
          "model_name": "LayoutModel",
          "state": {
            "_model_module": "@jupyter-widgets/base",
            "_model_module_version": "1.2.0",
            "_model_name": "LayoutModel",
            "_view_count": null,
            "_view_module": "@jupyter-widgets/base",
            "_view_module_version": "1.2.0",
            "_view_name": "LayoutView",
            "align_content": null,
            "align_items": null,
            "align_self": null,
            "border": null,
            "bottom": null,
            "display": null,
            "flex": null,
            "flex_flow": null,
            "grid_area": null,
            "grid_auto_columns": null,
            "grid_auto_flow": null,
            "grid_auto_rows": null,
            "grid_column": null,
            "grid_gap": null,
            "grid_row": null,
            "grid_template_areas": null,
            "grid_template_columns": null,
            "grid_template_rows": null,
            "height": null,
            "justify_content": null,
            "justify_items": null,
            "left": null,
            "margin": null,
            "max_height": null,
            "max_width": null,
            "min_height": null,
            "min_width": null,
            "object_fit": null,
            "object_position": null,
            "order": null,
            "overflow": null,
            "overflow_x": null,
            "overflow_y": null,
            "padding": null,
            "right": null,
            "top": null,
            "visibility": null,
            "width": null
          }
        },
        "67b54b997f5b4552926adbc20b9b5f74": {
          "model_module": "@jupyter-widgets/base",
          "model_module_version": "1.2.0",
          "model_name": "LayoutModel",
          "state": {
            "_model_module": "@jupyter-widgets/base",
            "_model_module_version": "1.2.0",
            "_model_name": "LayoutModel",
            "_view_count": null,
            "_view_module": "@jupyter-widgets/base",
            "_view_module_version": "1.2.0",
            "_view_name": "LayoutView",
            "align_content": null,
            "align_items": null,
            "align_self": null,
            "border": null,
            "bottom": null,
            "display": null,
            "flex": null,
            "flex_flow": null,
            "grid_area": null,
            "grid_auto_columns": null,
            "grid_auto_flow": null,
            "grid_auto_rows": null,
            "grid_column": null,
            "grid_gap": null,
            "grid_row": null,
            "grid_template_areas": null,
            "grid_template_columns": null,
            "grid_template_rows": null,
            "height": null,
            "justify_content": null,
            "justify_items": null,
            "left": null,
            "margin": null,
            "max_height": null,
            "max_width": null,
            "min_height": null,
            "min_width": null,
            "object_fit": null,
            "object_position": null,
            "order": null,
            "overflow": null,
            "overflow_x": null,
            "overflow_y": null,
            "padding": null,
            "right": null,
            "top": null,
            "visibility": null,
            "width": null
          }
        },
        "944526d9354b4434a802360a415e9428": {
          "model_module": "@jupyter-widgets/controls",
          "model_module_version": "1.5.0",
          "model_name": "DescriptionStyleModel",
          "state": {
            "_model_module": "@jupyter-widgets/controls",
            "_model_module_version": "1.5.0",
            "_model_name": "DescriptionStyleModel",
            "_view_count": null,
            "_view_module": "@jupyter-widgets/base",
            "_view_module_version": "1.2.0",
            "_view_name": "StyleView",
            "description_width": ""
          }
        },
        "9ee38b75275e444e8dbc76aa42f19fe6": {
          "model_module": "@jupyter-widgets/controls",
          "model_module_version": "1.5.0",
          "model_name": "DescriptionStyleModel",
          "state": {
            "_model_module": "@jupyter-widgets/controls",
            "_model_module_version": "1.5.0",
            "_model_name": "DescriptionStyleModel",
            "_view_count": null,
            "_view_module": "@jupyter-widgets/base",
            "_view_module_version": "1.2.0",
            "_view_name": "StyleView",
            "description_width": ""
          }
        },
        "a1824c747dcf49bab659377e96f635a1": {
          "model_module": "@jupyter-widgets/controls",
          "model_module_version": "1.5.0",
          "model_name": "FloatProgressModel",
          "state": {
            "_dom_classes": [],
            "_model_module": "@jupyter-widgets/controls",
            "_model_module_version": "1.5.0",
            "_model_name": "FloatProgressModel",
            "_view_count": null,
            "_view_module": "@jupyter-widgets/controls",
            "_view_module_version": "1.5.0",
            "_view_name": "ProgressView",
            "bar_style": "",
            "description": "",
            "description_tooltip": null,
            "layout": "IPY_MODEL_62d9d2bb5df745a4a1a954f497cae427",
            "max": 1,
            "min": 0,
            "orientation": "horizontal",
            "style": "IPY_MODEL_ff2a2cb9fcbe4495a5123daf82be654c",
            "value": 1
          }
        },
        "c1cf06deb069468d9302adc80dc83d67": {
          "model_module": "@jupyter-widgets/controls",
          "model_module_version": "1.5.0",
          "model_name": "HTMLModel",
          "state": {
            "_dom_classes": [],
            "_model_module": "@jupyter-widgets/controls",
            "_model_module_version": "1.5.0",
            "_model_name": "HTMLModel",
            "_view_count": null,
            "_view_module": "@jupyter-widgets/controls",
            "_view_module_version": "1.5.0",
            "_view_name": "HTMLView",
            "description": "",
            "description_tooltip": null,
            "layout": "IPY_MODEL_67b54b997f5b4552926adbc20b9b5f74",
            "placeholder": "​",
            "style": "IPY_MODEL_9ee38b75275e444e8dbc76aa42f19fe6",
            "value": "Computing widget examples:   0%"
          }
        },
        "cb9e56ec020f4f98869ce9de40d52daa": {
          "model_module": "@jupyter-widgets/controls",
          "model_module_version": "1.5.0",
          "model_name": "HTMLModel",
          "state": {
            "_dom_classes": [],
            "_model_module": "@jupyter-widgets/controls",
            "_model_module_version": "1.5.0",
            "_model_name": "HTMLModel",
            "_view_count": null,
            "_view_module": "@jupyter-widgets/controls",
            "_view_module_version": "1.5.0",
            "_view_name": "HTMLView",
            "description": "",
            "description_tooltip": null,
            "layout": "IPY_MODEL_da3d0bf200544bf3a44d6b70c59e16ba",
            "placeholder": "​",
            "style": "IPY_MODEL_944526d9354b4434a802360a415e9428",
            "value": " 0/1 [00:00&lt;?, ?example/s]"
          }
        },
        "da3d0bf200544bf3a44d6b70c59e16ba": {
          "model_module": "@jupyter-widgets/base",
          "model_module_version": "1.2.0",
          "model_name": "LayoutModel",
          "state": {
            "_model_module": "@jupyter-widgets/base",
            "_model_module_version": "1.2.0",
            "_model_name": "LayoutModel",
            "_view_count": null,
            "_view_module": "@jupyter-widgets/base",
            "_view_module_version": "1.2.0",
            "_view_name": "LayoutView",
            "align_content": null,
            "align_items": null,
            "align_self": null,
            "border": null,
            "bottom": null,
            "display": null,
            "flex": null,
            "flex_flow": null,
            "grid_area": null,
            "grid_auto_columns": null,
            "grid_auto_flow": null,
            "grid_auto_rows": null,
            "grid_column": null,
            "grid_gap": null,
            "grid_row": null,
            "grid_template_areas": null,
            "grid_template_columns": null,
            "grid_template_rows": null,
            "height": null,
            "justify_content": null,
            "justify_items": null,
            "left": null,
            "margin": null,
            "max_height": null,
            "max_width": null,
            "min_height": null,
            "min_width": null,
            "object_fit": null,
            "object_position": null,
            "order": null,
            "overflow": null,
            "overflow_x": null,
            "overflow_y": null,
            "padding": null,
            "right": null,
            "top": null,
            "visibility": null,
            "width": null
          }
        },
        "ff2a2cb9fcbe4495a5123daf82be654c": {
          "model_module": "@jupyter-widgets/controls",
          "model_module_version": "1.5.0",
          "model_name": "ProgressStyleModel",
          "state": {
            "_model_module": "@jupyter-widgets/controls",
            "_model_module_version": "1.5.0",
            "_model_name": "ProgressStyleModel",
            "_view_count": null,
            "_view_module": "@jupyter-widgets/base",
            "_view_module_version": "1.2.0",
            "_view_name": "StyleView",
            "bar_color": null,
            "description_width": ""
          }
        }
      },
      "version_major": 2,
      "version_minor": 0
    }
  },
  "nbformat": 4,
  "nbformat_minor": 0
}